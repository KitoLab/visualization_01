{
 "cells": [
  {
   "cell_type": "code",
   "execution_count": 31,
   "metadata": {},
   "outputs": [],
   "source": [
    "#上からひとつひとつShift+Enterを入れて実行していくとデータができる\n",
    "import pandas as pd\n",
    "import re\n",
    "\n",
    "#読み込むファイルを変えるときはここを変える\n",
    "data_path = 'raw_data/channels_0.csv'\n",
    "\n",
    "#でてくるファイル名を変えるときはここを変える\n",
    "output_json = 'channel_0.json'"
   ]
  },
  {
   "cell_type": "code",
   "execution_count": 32,
   "metadata": {},
   "outputs": [],
   "source": [
    "# 1.raw_dataの読み込み\n",
    "raw = pd.read_csv(data_path, encoding='utf_8')"
   ]
  },
  {
   "cell_type": "code",
   "execution_count": 33,
   "metadata": {},
   "outputs": [],
   "source": [
    "# 2.nodeのリストを作るためにfrom_idとto_idのリストを取得\n",
    "nodes_1 = pd.DataFrame(raw['from_id'].unique(), columns = ['name'])\n",
    "nodes_2_bef = pd.DataFrame(raw['to_id'].unique(), columns = ['name'])"
   ]
  },
  {
   "cell_type": "code",
   "execution_count": 34,
   "metadata": {},
   "outputs": [],
   "source": [
    "# 3.to_idは送信先一覧のリストなので、そのままでは使えない\n",
    "# ⇒1行ずつループに流して分解する\n",
    "nodes_2 = pd.DataFrame([], columns = ['name'])\n",
    "\n",
    "for index, Series in nodes_2_bef.iterrows():\n",
    "    to_list = re.findall('[a-z0-9]+', Series['name'])\n",
    "    for tmp in to_list:\n",
    "        temp = pd.Series([tmp], index = ['name'])\n",
    "        nodes_2 = nodes_2.append(temp, ignore_index=True)\n",
    "\n",
    "nodes_2 = pd.DataFrame(nodes_2['name'].unique(), columns = ['name'] )"
   ]
  },
  {
   "cell_type": "code",
   "execution_count": 35,
   "metadata": {},
   "outputs": [],
   "source": [
    "# 4.from_idとto_idのかぶりを取り除きnodeリストを完成させる\n",
    "nodes = pd.concat([nodes_1,nodes_2])\n",
    "nodes.reset_index()\n",
    "nodes = nodes.replace('nan', \"a\").fillna(\"a\") #id=NaNのものがあったので、とりあえずaを入れておく\n",
    "nodes = pd.DataFrame(nodes['name'].unique(), columns = ['name'])"
   ]
  },
  {
   "cell_type": "code",
   "execution_count": 36,
   "metadata": {},
   "outputs": [],
   "source": [
    "# 5.linkリストを作るためrawデータから読みだす\n",
    "links_bef = raw[['from_id', 'to_id']].fillna(\"a\")"
   ]
  },
  {
   "cell_type": "code",
   "execution_count": 37,
   "metadata": {
    "scrolled": false
   },
   "outputs": [],
   "source": [
    "# 6.to_idのリストをばらす\n",
    "links = pd.DataFrame([], columns = ['from_id', 'to_id'])\n",
    "\n",
    "for index, Series in links_bef.iterrows():\n",
    "    to_list = re.findall('[a-z0-9]+', Series['to_id'])\n",
    "    for to in to_list:\n",
    "        tmp = pd.Series([ Series['from_id'], to], index=links.columns )\n",
    "        search = links[ (links['from_id'] == tmp['from_id']) & (links['to_id'] == tmp['to_id']) ]\n",
    "        if len(search) == 0:\n",
    "            links = links.append(tmp, ignore_index=True)"
   ]
  },
  {
   "cell_type": "code",
   "execution_count": 38,
   "metadata": {},
   "outputs": [],
   "source": [
    "# 7.id=Nanをaで埋める処理\n",
    "links_0 = links.replace('nan', \"a\").fillna(\"a\")\n",
    "nodes_0 = nodes.replace('nan', \"a\").fillna(\"a\")"
   ]
  },
  {
   "cell_type": "code",
   "execution_count": 39,
   "metadata": {},
   "outputs": [],
   "source": [
    "# 8.columnsの名前を変える\n",
    "nodes_0 = nodes_0.rename(columns={'name':'pre_id'})"
   ]
  },
  {
   "cell_type": "code",
   "execution_count": 40,
   "metadata": {
    "scrolled": false
   },
   "outputs": [],
   "source": [
    "# 9.あとでidのおきかえをやるため、今のidをpreとする\n",
    "links_0 = links_0.rename(columns={'from_id':'pre_source', 'to_id':'pre_target'})"
   ]
  },
  {
   "cell_type": "code",
   "execution_count": 41,
   "metadata": {
    "scrolled": false
   },
   "outputs": [],
   "source": [
    "# 10.各ノードに番号を振っていく\n",
    "nodes_0['id'] = range(len(nodes_0))"
   ]
  },
  {
   "cell_type": "code",
   "execution_count": 42,
   "metadata": {
    "scrolled": false
   },
   "outputs": [],
   "source": [
    "# 11.この番号を使ってsourceとtargetを書き換える\n",
    "links_0['source'] = 0\n",
    "links_0['target'] = 0\n",
    "for i in range(len(links_0)):\n",
    "    links_0.iat[i,2] = list(nodes_0.query('pre_id == \"' + links_0.iloc[i][0] + '\"').index)[0]\n",
    "    links_0.iat[i,3] = list(nodes_0.query('pre_id == \"' + links_0.iloc[i][1] + '\"').index)[0]   "
   ]
  },
  {
   "cell_type": "code",
   "execution_count": 43,
   "metadata": {},
   "outputs": [],
   "source": [
    "# 12.pre を削除\n",
    "node = nodes_0.drop(['pre_id'] ,axis=1)\n",
    "link = links_0.drop(['pre_source','pre_target'] ,axis=1)"
   ]
  },
  {
   "cell_type": "code",
   "execution_count": 44,
   "metadata": {},
   "outputs": [],
   "source": [
    "# 13.会話の流れを取り出してJSONへ\n",
    "comment = pd.DataFrame(raw['content_text'])\n",
    "comment['order'] = range(len(comment))"
   ]
  },
  {
   "cell_type": "code",
   "execution_count": 45,
   "metadata": {
    "scrolled": false
   },
   "outputs": [],
   "source": [
    "# 14.会話の方向データを作る処理\n",
    "com_arrow_1 = pd.DataFrame(raw[['from_id','to_id']])\n",
    "com_arrow_1['order'] = range(len(com_arrow_1))\n",
    "\n",
    "# to_idの行先をばらすのが先\n",
    "com_arrow_2 = pd.DataFrame([], columns = ['from_id', 'to_id', 'order'])\n",
    "\n",
    "for index, Series in com_arrow_1.iterrows():\n",
    "    to_list = re.findall('[a-z0-9]+', Series['to_id'])\n",
    "    if to_list == []:\n",
    "        to_list.append(-1)\n",
    "    for to in to_list:\n",
    "        tmp = pd.Series([ Series['from_id'], to, int(index)], index = com_arrow_2.columns )\n",
    "        com_arrow_2 = com_arrow_2.append(tmp, ignore_index=True)\n",
    "\n",
    "com_arrow_2 = com_arrow_2.replace('nan', \"a\").fillna(\"a\")\n",
    "\n",
    "# ばらしたあと、idに変換\n",
    "for i in range(len(com_arrow_2)):\n",
    "    com_arrow_2.iat[i,0] = list(nodes_0.query('pre_id == \"' + com_arrow_2.iloc[i][0] + '\"').index)[0]\n",
    "    if com_arrow_2.iloc[i][1] != -1:\n",
    "        com_arrow_2.iat[i,1] = list(nodes_0.query('pre_id == \"' + com_arrow_2.iloc[i][1] + '\"').index)[0]\n",
    "\n",
    "com_arrow_2 = com_arrow_2.astype(int)"
   ]
  },
  {
   "cell_type": "code",
   "execution_count": 46,
   "metadata": {
    "scrolled": false
   },
   "outputs": [],
   "source": [
    "# 15.JSONファイルにして出力する\n",
    "\n",
    "with open(output_json, 'w') as f:\n",
    "    f.write((\"node = \\'\" + node.to_json(orient='records') + \"\\';\\r\\nlink = \\'\" + link.to_json(orient='records') + \"\\';\"))\n"
   ]
  },
  {
   "cell_type": "code",
   "execution_count": 47,
   "metadata": {},
   "outputs": [
    {
     "name": "stdout",
     "output_type": "stream",
     "text": [
      "あ\n"
     ]
    }
   ],
   "source": [
    "# 16.終わり\n",
    "print('あ')"
   ]
  },
  {
   "cell_type": "code",
   "execution_count": null,
   "metadata": {},
   "outputs": [],
   "source": []
  },
  {
   "cell_type": "code",
   "execution_count": null,
   "metadata": {},
   "outputs": [],
   "source": []
  }
 ],
 "metadata": {
  "kernelspec": {
   "display_name": "Python 3",
   "language": "python",
   "name": "python3"
  },
  "language_info": {
   "codemirror_mode": {
    "name": "ipython",
    "version": 3
   },
   "file_extension": ".py",
   "mimetype": "text/x-python",
   "name": "python",
   "nbconvert_exporter": "python",
   "pygments_lexer": "ipython3",
   "version": "3.6.4"
  }
 },
 "nbformat": 4,
 "nbformat_minor": 2
}
